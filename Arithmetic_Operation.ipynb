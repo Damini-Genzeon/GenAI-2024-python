{
  "nbformat": 4,
  "nbformat_minor": 0,
  "metadata": {
    "colab": {
      "provenance": [],
      "authorship_tag": "ABX9TyO+LKM/g2V2lYpMn64OJUZD",
      "include_colab_link": true
    },
    "kernelspec": {
      "name": "python3",
      "display_name": "Python 3"
    },
    "language_info": {
      "name": "python"
    }
  },
  "cells": [
    {
      "cell_type": "markdown",
      "metadata": {
        "id": "view-in-github",
        "colab_type": "text"
      },
      "source": [
        "<a href=\"https://colab.research.google.com/github/Damini-Genzeon/GenAI-2024-python/blob/main/Arithmetic_Operation.ipynb\" target=\"_parent\"><img src=\"https://colab.research.google.com/assets/colab-badge.svg\" alt=\"Open In Colab\"/></a>"
      ]
    },
    {
      "cell_type": "markdown",
      "source": [
        "# 1-D Array\n"
      ],
      "metadata": {
        "id": "v3w0CU3rky6c"
      }
    },
    {
      "cell_type": "code",
      "execution_count": 1,
      "metadata": {
        "colab": {
          "base_uri": "https://localhost:8080/"
        },
        "id": "aEjmwhRKgaCO",
        "outputId": "6d9e8701-b35c-4305-9342-39248d1873fa"
      },
      "outputs": [
        {
          "output_type": "stream",
          "name": "stdout",
          "text": [
            "[4 5 6 7]\n"
          ]
        }
      ],
      "source": [
        "import numpy as np\n",
        "var  = np.array([1,2,3,4])\n",
        "varadd = var+3\n",
        "print(varadd)"
      ]
    },
    {
      "cell_type": "code",
      "source": [
        "var  = np.array([1,2,3,4])\n",
        "varadd = np.add(var,3)\n",
        "print(varadd)"
      ],
      "metadata": {
        "colab": {
          "base_uri": "https://localhost:8080/"
        },
        "id": "Ijl4_jY2knNJ",
        "outputId": "0723eeb6-02fd-42ed-9a04-8099a52ce411"
      },
      "execution_count": 7,
      "outputs": [
        {
          "output_type": "stream",
          "name": "stdout",
          "text": [
            "[4 5 6 7]\n"
          ]
        }
      ]
    },
    {
      "cell_type": "code",
      "source": [
        "var1  = np.array([1,2,3,4])\n",
        "var2  = np.array([1,2,3,4])\n",
        "\n",
        "varadd = var1+var2\n",
        "print(varadd)"
      ],
      "metadata": {
        "colab": {
          "base_uri": "https://localhost:8080/"
        },
        "id": "QKMvdWadjpIy",
        "outputId": "36883195-78dc-4c2d-b812-b0c3951f767a"
      },
      "execution_count": 2,
      "outputs": [
        {
          "output_type": "stream",
          "name": "stdout",
          "text": [
            "[2 4 6 8]\n"
          ]
        }
      ]
    },
    {
      "cell_type": "code",
      "source": [
        "var1  = np.array([1,2,3,4])\n",
        "var2  = np.array([1,2,3,4])\n",
        "\n",
        "varadd = np.add(var1,var2)\n",
        "print(varadd)"
      ],
      "metadata": {
        "colab": {
          "base_uri": "https://localhost:8080/"
        },
        "id": "ICrAxcENkdMj",
        "outputId": "56d3b43f-ed0f-4406-f4c5-9901f11bedc7"
      },
      "execution_count": 6,
      "outputs": [
        {
          "output_type": "stream",
          "name": "stdout",
          "text": [
            "[2 4 6 8]\n"
          ]
        }
      ]
    },
    {
      "cell_type": "code",
      "source": [
        "var1  = np.array([1,2,3,4])\n",
        "var2  = np.array([1,2,3,4])\n",
        "\n",
        "varadd = var1-var2\n",
        "print(varadd)"
      ],
      "metadata": {
        "colab": {
          "base_uri": "https://localhost:8080/"
        },
        "id": "btaMMWCejy-q",
        "outputId": "8e3e6ae5-5757-4e3a-e13b-27880c6bf4ad"
      },
      "execution_count": 3,
      "outputs": [
        {
          "output_type": "stream",
          "name": "stdout",
          "text": [
            "[0 0 0 0]\n"
          ]
        }
      ]
    },
    {
      "cell_type": "code",
      "source": [
        "var1  = np.array([1,2,3,4])\n",
        "var2  = np.array([1,2,3,4])\n",
        "\n",
        "varadd = var1*var2\n",
        "print(varadd)"
      ],
      "metadata": {
        "colab": {
          "base_uri": "https://localhost:8080/"
        },
        "id": "Lv-jUTR2j0RN",
        "outputId": "2a7ca616-d44a-49a8-a7be-de7d61a08f03"
      },
      "execution_count": 4,
      "outputs": [
        {
          "output_type": "stream",
          "name": "stdout",
          "text": [
            "[ 1  4  9 16]\n"
          ]
        }
      ]
    },
    {
      "cell_type": "code",
      "source": [
        "var1  = np.array([1,2,3,4])\n",
        "var2  = np.array([1,2,3,4])\n",
        "\n",
        "varadd = var1/var2\n",
        "print(varadd)"
      ],
      "metadata": {
        "colab": {
          "base_uri": "https://localhost:8080/"
        },
        "id": "DgN2iwSdj4hI",
        "outputId": "79a33d34-3fbe-41d5-fc86-dd3a56b20c17"
      },
      "execution_count": 5,
      "outputs": [
        {
          "output_type": "stream",
          "name": "stdout",
          "text": [
            "[1. 1. 1. 1.]\n"
          ]
        }
      ]
    },
    {
      "cell_type": "code",
      "source": [
        "# reciprocal()\n",
        "var = np.array([1,2,3,4])\n",
        "\n",
        "reciprocal_array = np.reciprocal(var)\n",
        "\n",
        "print(reciprocal_array)\n"
      ],
      "metadata": {
        "colab": {
          "base_uri": "https://localhost:8080/"
        },
        "id": "C77AmxiXmp2w",
        "outputId": "df267efc-3f82-4f3e-812f-d21bbef5a83c"
      },
      "execution_count": 13,
      "outputs": [
        {
          "output_type": "stream",
          "name": "stdout",
          "text": [
            "[1 0 0 0]\n"
          ]
        }
      ]
    },
    {
      "cell_type": "markdown",
      "source": [
        "# 2-D Array"
      ],
      "metadata": {
        "id": "yW8Dt4iSk622"
      }
    },
    {
      "cell_type": "code",
      "source": [
        "var21  = np.array([[1,2,3,4],[1,2,3,4]])\n",
        "var22  = np.array([[1,2,3,4],[1,2,3,4]])\n",
        "\n",
        "print(var21)\n",
        "print()\n",
        "print(var22)\n",
        "print()\n",
        "\n",
        "varadd = var21+var22\n",
        "\n",
        "print(varadd)"
      ],
      "metadata": {
        "colab": {
          "base_uri": "https://localhost:8080/"
        },
        "id": "4kf0tY_Pk-W4",
        "outputId": "8f3a280b-01ec-497b-b0e9-e300e7ba9ddd"
      },
      "execution_count": 10,
      "outputs": [
        {
          "output_type": "stream",
          "name": "stdout",
          "text": [
            "[[1 2 3 4]\n",
            " [1 2 3 4]]\n",
            "\n",
            "[[1 2 3 4]\n",
            " [1 2 3 4]]\n",
            "\n",
            "[[2 4 6 8]\n",
            " [2 4 6 8]]\n"
          ]
        }
      ]
    }
  ]
}