{
  "nbformat": 4,
  "nbformat_minor": 0,
  "metadata": {
    "colab": {
      "provenance": [],
      "authorship_tag": "ABX9TyOtBBv6icGKRmQn0MttaOGo",
      "include_colab_link": true
    },
    "kernelspec": {
      "name": "python3",
      "display_name": "Python 3"
    },
    "language_info": {
      "name": "python"
    }
  },
  "cells": [
    {
      "cell_type": "markdown",
      "metadata": {
        "id": "view-in-github",
        "colab_type": "text"
      },
      "source": [
        "<a href=\"https://colab.research.google.com/github/Damini-Genzeon/GenAI-2024-python/blob/main/Arithmetic_operations_in_numpy.ipynb\" target=\"_parent\"><img src=\"https://colab.research.google.com/assets/colab-badge.svg\" alt=\"Open In Colab\"/></a>"
      ]
    },
    {
      "cell_type": "code",
      "execution_count": 7,
      "metadata": {
        "colab": {
          "base_uri": "https://localhost:8080/"
        },
        "id": "MgjL5lB0nuxu",
        "outputId": "24212eb4-88a9-41cf-9373-a3687314e257"
      },
      "outputs": [
        {
          "output_type": "stream",
          "name": "stdout",
          "text": [
            "max :  16 3\n",
            "min :  1 0\n",
            "sqrt :  [1. 2. 3. 4.]\n"
          ]
        }
      ],
      "source": [
        "import numpy as np\n",
        "\n",
        "var = np.array([1,4,9,16])\n",
        "print(\"max : \",np.max(var),np.argmax(var))\n",
        "print(\"min : \",np.min(var),np.argmin(var))\n",
        "print(\"sqrt : \",np.sqrt(var))\n",
        "\n",
        "\n"
      ]
    },
    {
      "cell_type": "code",
      "source": [
        "var1 = np.array([[1,2,3],[9,5,6]])\n",
        "print(np.min(var1,axis=1)) # gives minimun among rows\n",
        "print(np.min(var1,axis=0)) # gives minimun among coloums"
      ],
      "metadata": {
        "colab": {
          "base_uri": "https://localhost:8080/"
        },
        "id": "tnzecoPQq0ZH",
        "outputId": "a207b60f-c6de-44ed-d52c-c4d45f12f3ea"
      },
      "execution_count": 5,
      "outputs": [
        {
          "output_type": "stream",
          "name": "stdout",
          "text": [
            "[1 5]\n",
            "[1 2 3]\n"
          ]
        }
      ]
    },
    {
      "cell_type": "markdown",
      "source": [
        "# Sin() and Cos()"
      ],
      "metadata": {
        "id": "JdeNnYeJ0H4y"
      }
    },
    {
      "cell_type": "code",
      "source": [
        "var2 = np.array([1,2,3])\n",
        "\n",
        "print(np.sin(var2))\n",
        "print(np.cos(var2))\n"
      ],
      "metadata": {
        "colab": {
          "base_uri": "https://localhost:8080/"
        },
        "id": "Bw_czMfA0P22",
        "outputId": "e60d9840-c58c-49e6-f471-6d093f9f3b86"
      },
      "execution_count": 8,
      "outputs": [
        {
          "output_type": "stream",
          "name": "stdout",
          "text": [
            "[0.84147098 0.90929743 0.14112001]\n",
            "[ 0.54030231 -0.41614684 -0.9899925 ]\n"
          ]
        }
      ]
    },
    {
      "cell_type": "markdown",
      "source": [
        "Cumulative Sum"
      ],
      "metadata": {
        "id": "cBCdKPl-0iry"
      }
    },
    {
      "cell_type": "code",
      "source": [
        "var2 = np.array([1,2,3,4])\n",
        "\n",
        "print(np.cumsum(var2))"
      ],
      "metadata": {
        "colab": {
          "base_uri": "https://localhost:8080/"
        },
        "id": "r1vYmIPx0liz",
        "outputId": "e91d3258-9d38-422a-d3f3-0470e97a2b88"
      },
      "execution_count": 10,
      "outputs": [
        {
          "output_type": "stream",
          "name": "stdout",
          "text": [
            "[ 1  3  6 10]\n"
          ]
        }
      ]
    }
  ]
}