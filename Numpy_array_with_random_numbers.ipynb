{
  "nbformat": 4,
  "nbformat_minor": 0,
  "metadata": {
    "colab": {
      "provenance": [],
      "authorship_tag": "ABX9TyPRpDdXjRIGCvungXVew9FP",
      "include_colab_link": true
    },
    "kernelspec": {
      "name": "python3",
      "display_name": "Python 3"
    },
    "language_info": {
      "name": "python"
    }
  },
  "cells": [
    {
      "cell_type": "markdown",
      "metadata": {
        "id": "view-in-github",
        "colab_type": "text"
      },
      "source": [
        "<a href=\"https://colab.research.google.com/github/Damini-Genzeon/GenAI-2024-python/blob/main/Numpy_array_with_random_numbers.ipynb\" target=\"_parent\"><img src=\"https://colab.research.google.com/assets/colab-badge.svg\" alt=\"Open In Colab\"/></a>"
      ]
    },
    {
      "cell_type": "code",
      "execution_count": 9,
      "metadata": {
        "colab": {
          "base_uri": "https://localhost:8080/"
        },
        "id": "1P3bXdhZb8MV",
        "outputId": "898a0f64-595c-4e1c-a2d0-de3f988db98e"
      },
      "outputs": [
        {
          "output_type": "stream",
          "name": "stdout",
          "text": [
            "5\n"
          ]
        }
      ],
      "source": [
        "import numpy as np\n",
        "\n",
        "# Rand()\n",
        "# var = np.random.rand(4)\n",
        "# print(var)\n",
        "\n",
        "# var1 = np.random.rand(2,5) # creates array of 2*5 with random values\n",
        "# print(var1)\n",
        "\n",
        "# Randn()\n",
        "# var1 = np.random.randn(5)\n",
        "# print(var1)\n",
        "\n",
        "# Randf()\n",
        "# var2 = np.random.ranf(7)\n",
        "# print(var2)\n",
        "\n",
        "# Randint()\n",
        "var3 = np.random.randint(2,9)\n",
        "print(var3)\n"
      ]
    }
  ]
}