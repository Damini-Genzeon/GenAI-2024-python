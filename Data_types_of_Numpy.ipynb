{
  "nbformat": 4,
  "nbformat_minor": 0,
  "metadata": {
    "colab": {
      "provenance": [],
      "authorship_tag": "ABX9TyOrBllVQ/TuYsQrJhtv9qJo",
      "include_colab_link": true
    },
    "kernelspec": {
      "name": "python3",
      "display_name": "Python 3"
    },
    "language_info": {
      "name": "python"
    }
  },
  "cells": [
    {
      "cell_type": "markdown",
      "metadata": {
        "id": "view-in-github",
        "colab_type": "text"
      },
      "source": [
        "<a href=\"https://colab.research.google.com/github/Damini-Genzeon/GenAI-2024-python/blob/main/Data_types_of_Numpy.ipynb\" target=\"_parent\"><img src=\"https://colab.research.google.com/assets/colab-badge.svg\" alt=\"Open In Colab\"/></a>"
      ]
    },
    {
      "cell_type": "markdown",
      "source": [
        "change data type"
      ],
      "metadata": {
        "id": "dPL8iO8UfA_V"
      }
    },
    {
      "cell_type": "code",
      "execution_count": 2,
      "metadata": {
        "colab": {
          "base_uri": "https://localhost:8080/"
        },
        "id": "dCqPVj8JdX3V",
        "outputId": "78a7e54a-f549-4c17-f1a3-719c0db40686"
      },
      "outputs": [
        {
          "output_type": "stream",
          "name": "stdout",
          "text": [
            "Data Type :  float32\n",
            "[1. 2. 3. 4.]\n"
          ]
        }
      ],
      "source": [
        "import numpy as np\n",
        "x1 = np.array([1,2,3,4],dtype= \"f\")\n",
        "print(\"Data Type : \",x1.dtype)\n",
        "print(x1)"
      ]
    },
    {
      "cell_type": "markdown",
      "source": [
        "Use Datatype as function"
      ],
      "metadata": {
        "id": "CdCMu4P4eYFK"
      }
    },
    {
      "cell_type": "code",
      "source": [
        "x2 = np.array([1,2,3,4])\n",
        "\n",
        "new = np.float32(x2)\n",
        "\n",
        "print(\"data type of x2 :\",x2.dtype)\n",
        "print(\"data type of new :\",new.dtype)\n",
        "\n",
        "print(x2)\n",
        "print(new)"
      ],
      "metadata": {
        "colab": {
          "base_uri": "https://localhost:8080/"
        },
        "id": "6_xX4Uv7eeXc",
        "outputId": "5e6dd9ff-b827-45ad-8722-d4f54236ccb0"
      },
      "execution_count": 4,
      "outputs": [
        {
          "output_type": "stream",
          "name": "stdout",
          "text": [
            "data type of x2 : int64\n",
            "data type of new : float32\n",
            "[1 2 3 4]\n",
            "[1. 2. 3. 4.]\n"
          ]
        }
      ]
    },
    {
      "cell_type": "markdown",
      "source": [
        "astype() function"
      ],
      "metadata": {
        "id": "-bqtoCfHfmjd"
      }
    },
    {
      "cell_type": "code",
      "source": [
        "x3 = np.array([1,2,3,4])\n",
        "\n",
        "new_1 = x3.astype(float)\n",
        "\n",
        "print(x3)\n",
        "print(new_1)"
      ],
      "metadata": {
        "colab": {
          "base_uri": "https://localhost:8080/"
        },
        "id": "oQmM9b3-fp0x",
        "outputId": "96896a1b-10ff-4c27-9983-bfdd3e186b81"
      },
      "execution_count": 5,
      "outputs": [
        {
          "output_type": "stream",
          "name": "stdout",
          "text": [
            "[1 2 3 4]\n",
            "[1. 2. 3. 4.]\n"
          ]
        }
      ]
    }
  ]
}