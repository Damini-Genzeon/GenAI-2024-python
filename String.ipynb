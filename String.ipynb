{
  "nbformat": 4,
  "nbformat_minor": 0,
  "metadata": {
    "colab": {
      "provenance": [],
      "authorship_tag": "ABX9TyPNtApWrComZdGaR3jYF1j1",
      "include_colab_link": true
    },
    "kernelspec": {
      "name": "python3",
      "display_name": "Python 3"
    },
    "language_info": {
      "name": "python"
    }
  },
  "cells": [
    {
      "cell_type": "markdown",
      "metadata": {
        "id": "view-in-github",
        "colab_type": "text"
      },
      "source": [
        "<a href=\"https://colab.research.google.com/github/Damini-Genzeon/GenAI-2024-python/blob/main/String.ipynb\" target=\"_parent\"><img src=\"https://colab.research.google.com/assets/colab-badge.svg\" alt=\"Open In Colab\"/></a>"
      ]
    },
    {
      "cell_type": "markdown",
      "source": [
        "Exercise 1 :\n",
        "Display the number of letters in the string"
      ],
      "metadata": {
        "id": "BK_iHpyllL67"
      }
    },
    {
      "cell_type": "code",
      "source": [
        "my_word = \"antidisestablishmentarianism\"\n",
        "print(my_word)"
      ],
      "metadata": {
        "colab": {
          "base_uri": "https://localhost:8080/"
        },
        "id": "pFO1q4vhlOGz",
        "outputId": "38bbf06a-3cbf-464d-c613-8bd0879f6a81"
      },
      "execution_count": 2,
      "outputs": [
        {
          "output_type": "stream",
          "name": "stdout",
          "text": [
            "antidisestablishmentarianism\n"
          ]
        }
      ]
    },
    {
      "cell_type": "markdown",
      "source": [
        "Exercise 2 :\n",
        "Concatenate two strings together"
      ],
      "metadata": {
        "id": "VYJ4uwdOla1X"
      }
    },
    {
      "cell_type": "markdown",
      "source": [],
      "metadata": {
        "id": "4rOrN_8U1usd"
      }
    },
    {
      "cell_type": "code",
      "source": [
        "string_left = \"bat\"\n",
        "string_right = \"man\"\n",
        "print(string_left+string_right)"
      ],
      "metadata": {
        "colab": {
          "base_uri": "https://localhost:8080/"
        },
        "id": "S_sy2na-lhih",
        "outputId": "a2230bf1-b3d0-4a59-ac09-eceff34580e0"
      },
      "execution_count": 3,
      "outputs": [
        {
          "output_type": "stream",
          "name": "stdout",
          "text": [
            "batman\n"
          ]
        }
      ]
    },
    {
      "cell_type": "markdown",
      "source": [
        " Exercise 3 :\n",
        " Display two strings together, with a space in between"
      ],
      "metadata": {
        "id": "tMfAB5Ks064R"
      }
    },
    {
      "cell_type": "code",
      "source": [
        "string_one = \"heebie\"\n",
        "string_two = \"jeebies\"\n",
        "print(f\"{string_one} {string_two}\")"
      ],
      "metadata": {
        "colab": {
          "base_uri": "https://localhost:8080/"
        },
        "id": "cMqP1E5_1C8V",
        "outputId": "e43af836-06db-432f-d9f3-6c7d0912e5cd"
      },
      "execution_count": 4,
      "outputs": [
        {
          "output_type": "stream",
          "name": "stdout",
          "text": [
            "heebie jeebies\n"
          ]
        }
      ]
    },
    {
      "cell_type": "markdown",
      "source": [
        "Exercise 4 :\n",
        "Use subscripting to display part of a string"
      ],
      "metadata": {
        "id": "UBrOKLoG16eW"
      }
    },
    {
      "cell_type": "code",
      "source": [
        "print(\"bazinga\"[2:6])"
      ],
      "metadata": {
        "colab": {
          "base_uri": "https://localhost:8080/"
        },
        "id": "z-odRRhf1-uF",
        "outputId": "7d38d7c8-8f86-4d71-d7b6-08f4dcc2b2a0"
      },
      "execution_count": 5,
      "outputs": [
        {
          "output_type": "stream",
          "name": "stdout",
          "text": [
            "zing\n"
          ]
        }
      ]
    }
  ]
}