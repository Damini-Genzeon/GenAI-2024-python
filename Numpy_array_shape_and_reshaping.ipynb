{
  "nbformat": 4,
  "nbformat_minor": 0,
  "metadata": {
    "colab": {
      "provenance": [],
      "authorship_tag": "ABX9TyNepJP4cVNWxDq4RXVG81Oz",
      "include_colab_link": true
    },
    "kernelspec": {
      "name": "python3",
      "display_name": "Python 3"
    },
    "language_info": {
      "name": "python"
    }
  },
  "cells": [
    {
      "cell_type": "markdown",
      "metadata": {
        "id": "view-in-github",
        "colab_type": "text"
      },
      "source": [
        "<a href=\"https://colab.research.google.com/github/Damini-Genzeon/GenAI-2024-python/blob/main/Numpy_array_shape_and_reshaping.ipynb\" target=\"_parent\"><img src=\"https://colab.research.google.com/assets/colab-badge.svg\" alt=\"Open In Colab\"/></a>"
      ]
    },
    {
      "cell_type": "markdown",
      "source": [
        "Shape"
      ],
      "metadata": {
        "id": "JQMw9ye92Bny"
      }
    },
    {
      "cell_type": "code",
      "source": [
        "import numpy as np\n",
        "\n",
        "var = np.array([[1,2,3,4],[1,2,3,4]])\n",
        "\n",
        "print(var)\n",
        "print()\n",
        "print(var.shape)"
      ],
      "metadata": {
        "colab": {
          "base_uri": "https://localhost:8080/"
        },
        "id": "10uvPX8K2ENb",
        "outputId": "1be07c1e-12a0-4ba9-d02e-6770a8264bb4"
      },
      "execution_count": 2,
      "outputs": [
        {
          "output_type": "stream",
          "name": "stdout",
          "text": [
            "[[1 2 3 4]\n",
            " [1 2 3 4]]\n",
            "\n",
            "(2, 4)\n"
          ]
        }
      ]
    },
    {
      "cell_type": "markdown",
      "source": [
        "multi-dimensional"
      ],
      "metadata": {
        "id": "Lr6bMN6b2txd"
      }
    },
    {
      "cell_type": "code",
      "source": [
        "var1 = np.array([1,2,3,4], ndmin=4)\n",
        "print(var1)\n",
        "print(var1.ndim)\n",
        "print()\n",
        "print(var1.shape)"
      ],
      "metadata": {
        "colab": {
          "base_uri": "https://localhost:8080/"
        },
        "id": "HxFn5MFL2wT5",
        "outputId": "9360b527-7d11-4860-b1dd-0bcab8acf9d7"
      },
      "execution_count": 4,
      "outputs": [
        {
          "output_type": "stream",
          "name": "stdout",
          "text": [
            "[[[[1 2 3 4]]]]\n",
            "4\n",
            "\n",
            "(1, 1, 1, 4)\n"
          ]
        }
      ]
    },
    {
      "cell_type": "markdown",
      "source": [
        "reshape function = for changing dimensions of array"
      ],
      "metadata": {
        "id": "1QIKdBtC4OGW"
      }
    },
    {
      "cell_type": "code",
      "source": [
        "var2 = np.array([1,2,3,4,5,6])\n",
        "\n",
        "print(var2)\n",
        "print(var2.ndim)\n",
        "print()\n",
        "\n",
        "x = var2.reshape(3,2) # number of rows, number of coloums\n",
        "\n",
        "print(x)\n",
        "print(x.ndim)"
      ],
      "metadata": {
        "colab": {
          "base_uri": "https://localhost:8080/"
        },
        "id": "eT4XgsgK4USS",
        "outputId": "3595c6cd-1d64-4fc6-fc01-cd49b48c20f9"
      },
      "execution_count": 6,
      "outputs": [
        {
          "output_type": "stream",
          "name": "stdout",
          "text": [
            "[1 2 3 4 5 6]\n",
            "1\n",
            "\n",
            "[[1 2]\n",
            " [3 4]\n",
            " [5 6]]\n",
            "2\n"
          ]
        }
      ]
    },
    {
      "cell_type": "code",
      "source": [
        "var3 = np.array([1,2,3,4,5,6,7,8,9,10,11,12])\n",
        "\n",
        "print(var3)\n",
        "print(var3.ndim)\n",
        "print()\n",
        "\n",
        "x = var3.reshape(2,3,2) # number of rows, number of coloums\n",
        "\n",
        "print(x)\n",
        "print(x.ndim)"
      ],
      "metadata": {
        "colab": {
          "base_uri": "https://localhost:8080/"
        },
        "id": "ANgnzoEh6DQZ",
        "outputId": "de611a42-474c-4d6d-da93-7f44ff7e73a2"
      },
      "execution_count": 9,
      "outputs": [
        {
          "output_type": "stream",
          "name": "stdout",
          "text": [
            "[ 1  2  3  4  5  6  7  8  9 10 11 12]\n",
            "1\n",
            "\n",
            "[[[ 1  2]\n",
            "  [ 3  4]\n",
            "  [ 5  6]]\n",
            "\n",
            " [[ 7  8]\n",
            "  [ 9 10]\n",
            "  [11 12]]]\n",
            "3\n"
          ]
        }
      ]
    },
    {
      "cell_type": "code",
      "source": [
        "var3 = np.array([1,2,3,4,5,6,7,8,9,10,11,12])\n",
        "\n",
        "print(var3)\n",
        "print(var3.ndim)\n",
        "print()\n",
        "\n",
        "x1 = var3.reshape(2,3,2) # number of rows, number of coloums\n",
        "\n",
        "print(x)\n",
        "print(x.ndim)\n",
        "\n",
        "print()\n",
        "\n",
        "one = x1.reshape(-1) # converts into one dimension\n",
        "print(one)\n",
        "print(one.ndim)"
      ],
      "metadata": {
        "colab": {
          "base_uri": "https://localhost:8080/"
        },
        "id": "E7Z9L8TE6tNt",
        "outputId": "d86e0a08-4066-4545-9599-1f72be604ff0"
      },
      "execution_count": 10,
      "outputs": [
        {
          "output_type": "stream",
          "name": "stdout",
          "text": [
            "[ 1  2  3  4  5  6  7  8  9 10 11 12]\n",
            "1\n",
            "\n",
            "[[[ 1  2]\n",
            "  [ 3  4]\n",
            "  [ 5  6]]\n",
            "\n",
            " [[ 7  8]\n",
            "  [ 9 10]\n",
            "  [11 12]]]\n",
            "3\n",
            "\n",
            "[ 1  2  3  4  5  6  7  8  9 10 11 12]\n",
            "1\n"
          ]
        }
      ]
    }
  ]
}