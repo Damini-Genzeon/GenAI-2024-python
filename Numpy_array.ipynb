{
  "nbformat": 4,
  "nbformat_minor": 0,
  "metadata": {
    "colab": {
      "provenance": [],
      "authorship_tag": "ABX9TyP/i09oxPyhSFVVxw/h9Whn",
      "include_colab_link": true
    },
    "kernelspec": {
      "name": "python3",
      "display_name": "Python 3"
    },
    "language_info": {
      "name": "python"
    }
  },
  "cells": [
    {
      "cell_type": "markdown",
      "metadata": {
        "id": "view-in-github",
        "colab_type": "text"
      },
      "source": [
        "<a href=\"https://colab.research.google.com/github/Damini-Genzeon/GenAI-2024-python/blob/main/Numpy_array.ipynb\" target=\"_parent\"><img src=\"https://colab.research.google.com/assets/colab-badge.svg\" alt=\"Open In Colab\"/></a>"
      ]
    },
    {
      "cell_type": "code",
      "execution_count": null,
      "metadata": {
        "colab": {
          "base_uri": "https://localhost:8080/"
        },
        "id": "2SwmBPSg9-JG",
        "outputId": "2e2bd9b2-48d7-4de6-8442-9b17eb3be2b1"
      },
      "outputs": [
        {
          "output_type": "stream",
          "name": "stdout",
          "text": [
            "[[[[[[[[[[1 2 3 4 5]]]]]]]]]]\n",
            "10\n"
          ]
        }
      ],
      "source": [
        "import numpy as np\n",
        "\n",
        "# # 1\n",
        "# a = np.array([1,2,3,4,5])\n",
        "# print(a)\n",
        "\n",
        "# 2\n",
        "# l = []\n",
        "# for i in range(1,5):\n",
        "#   int_1 = int(input(\"enter :\"))\n",
        "#   l.append(int_1)\n",
        "\n",
        "# print(np.array(l))\n",
        "\n",
        "# 3\n",
        "# arr = np.array([[1,2,3,4],[1,2,3,4]])\n",
        "# print(arr)\n",
        "# print(arr.ndim) # shows the number of array dimensions\n",
        "\n",
        "# 4\n",
        "arn = np.array([1,2,3,4,5],ndmin = 10) #creates 10 dimensional array\n",
        "print(arn)\n",
        "print(arn.ndim)\n"
      ]
    }
  ]
}